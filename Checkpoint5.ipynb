{
 "cells": [
  {
   "cell_type": "markdown",
   "id": "154008c3",
   "metadata": {},
   "source": [
    "### 1- Écrivez une classe Python nommée Point3D définie par x, y et z. Définissez une méthode qui renvoie (x, y ,z). Cela indique à Python de représenter cet objet au format suivant : (x, y, z). Créez ensuite une variable nommée my_point contenant une nouvelle instance de Point3D avec x=1, y=2 et z=3 et imprimez-la. "
   ]
  },
  {
   "cell_type": "code",
   "execution_count": 4,
   "id": "e959df57",
   "metadata": {},
   "outputs": [
    {
     "data": {
      "text/plain": [
       "(1, 2, 3)"
      ]
     },
     "execution_count": 4,
     "metadata": {},
     "output_type": "execute_result"
    }
   ],
   "source": [
    "class Point3D():\n",
    "    def __init__(self,x,y,z):\n",
    "        self.x=x\n",
    "        self.y=y\n",
    "        self.z=z\n",
    "    def représenter(self):\n",
    "        return (self.x,self.y,self.z)\n",
    "my_point=Point3D(1,2,3)\n",
    "my_point.représenter()"
   ]
  },
  {
   "cell_type": "markdown",
   "id": "d8d3804e",
   "metadata": {},
   "source": [
    "### 2 - Écrivez une classe Python nommée Rectangle construite par une longueur et une largeur. Définissez deux méthodes, aire et périmètre, qui calculeront l'aire et le périmètre du rectangle. Créez ensuite une variable nommée my_rectangle contenant une nouvelle instance de Rectangle avec largeur = 3 et longueur = 4 et calculez à la fois la surface et le périmètre (la surface devrait être 3 * 4 = 12 et le périmètre 2 * (3 + 4) = 14) . "
   ]
  },
  {
   "cell_type": "code",
   "execution_count": 5,
   "id": "5f785b47",
   "metadata": {},
   "outputs": [
    {
     "data": {
      "text/plain": [
       "12"
      ]
     },
     "execution_count": 5,
     "metadata": {},
     "output_type": "execute_result"
    }
   ],
   "source": [
    "class Rectangle():\n",
    "    def __init__(self,longueur,largeur):\n",
    "        self.longueur=longueur\n",
    "        self.largeur=largeur\n",
    "    def surface(self):\n",
    "        return self.longueur*self.largeur\n",
    "    def périmètre(self):\n",
    "        return (self.longueur+self.largeur)*2\n",
    "my_rectangle=Rectangle(4,3)\n",
    "my_rectangle.surface()"
   ]
  },
  {
   "cell_type": "code",
   "execution_count": 6,
   "id": "8be6a3ae",
   "metadata": {},
   "outputs": [
    {
     "data": {
      "text/plain": [
       "14"
      ]
     },
     "execution_count": 6,
     "metadata": {},
     "output_type": "execute_result"
    }
   ],
   "source": [
    "my_rectangle.périmètre()"
   ]
  },
  {
   "cell_type": "markdown",
   "id": "dd7d38db",
   "metadata": {},
   "source": [
    "### 3 - Écrivez une classe Python nommée Circle construite par son centre O et son rayon r. Définissez deux méthodes, aire et périmètre, qui calculeront l'aire et le périmètre du cercle, et est la méthode Inside() qui permet de tester si un point A(x, y) appartient au cercle C(O, r) ou non. "
   ]
  },
  {
   "cell_type": "code",
   "execution_count": 10,
   "id": "c4ab276c",
   "metadata": {},
   "outputs": [
    {
     "data": {
      "text/plain": [
       "50.24"
      ]
     },
     "execution_count": 10,
     "metadata": {},
     "output_type": "execute_result"
    }
   ],
   "source": [
    "class cercle():\n",
    "    def __init__(self,O,r):\n",
    "        self.O=O\n",
    "        self.r=r\n",
    "    def aire(self):\n",
    "        return self.r**2*3.14\n",
    "    def périmètre(self):\n",
    "        return self.r*2*3.14\n",
    "Cercle1=cercle(0,4)\n",
    "Cercle1.aire()"
   ]
  },
  {
   "cell_type": "code",
   "execution_count": 11,
   "id": "6002acef",
   "metadata": {},
   "outputs": [
    {
     "data": {
      "text/plain": [
       "25.12"
      ]
     },
     "execution_count": 11,
     "metadata": {},
     "output_type": "execute_result"
    }
   ],
   "source": [
    "Cercle1.périmètre()"
   ]
  },
  {
   "cell_type": "markdown",
   "id": "a82e8f62",
   "metadata": {},
   "source": [
    "### 4 - Supposons que nous voulions modéliser un compte bancaire avec prise en charge des opérations de dépôt et de retrait. Créons une classe Python nommée Bank définie par son solde. Définissez deux méthodes, dépôt et retrait, pour calculer le nouveau montant de chaque opération. "
   ]
  },
  {
   "cell_type": "code",
   "execution_count": 7,
   "id": "41a244cc",
   "metadata": {},
   "outputs": [
    {
     "data": {
      "text/plain": [
       "250"
      ]
     },
     "execution_count": 7,
     "metadata": {},
     "output_type": "execute_result"
    }
   ],
   "source": [
    "class Banque():\n",
    "    def __init__(self,dépôt,retrait):\n",
    "        self.dépôt = dépôt\n",
    "        self.retrait=retrait\n",
    "    def solde(self):\n",
    "        return self.dépôt-self.retrait\n",
    "compte=Banque(1000,750)\n",
    "compte.solde()"
   ]
  }
 ],
 "metadata": {
  "kernelspec": {
   "display_name": "Python 3 (ipykernel)",
   "language": "python",
   "name": "python3"
  },
  "language_info": {
   "codemirror_mode": {
    "name": "ipython",
    "version": 3
   },
   "file_extension": ".py",
   "mimetype": "text/x-python",
   "name": "python",
   "nbconvert_exporter": "python",
   "pygments_lexer": "ipython3",
   "version": "3.9.13"
  }
 },
 "nbformat": 4,
 "nbformat_minor": 5
}
